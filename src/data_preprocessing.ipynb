{
 "cells": [
  {
   "cell_type": "code",
   "execution_count": 1,
   "metadata": {},
   "outputs": [],
   "source": [
    "# import libraries\n",
    "import pandas as pd\n",
    "pd.set_option('display.max_row', 100)\n",
    "pd.set_option('display.max_columns', 100)\n",
    "import numpy as np\n",
    "import helper_functions\n",
    "import ref_files_access\n",
    "from required_columns import define_required_columns\n",
    "import data_consolidation\n",
    "import general_preprocessing\n",
    "%load_ext autoreload\n",
    "%autoreload 2"
   ]
  },
  {
   "cell_type": "code",
   "execution_count": 64,
   "metadata": {},
   "outputs": [],
   "source": [
    "# define refresh parameters\n",
    "data_dump = r\"C:\\Users\\elaiza.padilla\\OneDrive - Accenture\\Documents\\BSC Intake Optimization\\Data\"\n",
    "SOWs = [\n",
    "    'Commercial Intake Fax'\n",
    "    ,'Promise Intake Fax'\n",
    "    ,'Commercial Intake Phone'\n",
    "    ,'Promise Intake Phone'\n",
    "    ,'Intake Pharmacy'\n",
    "    ,'UM RxMed'\n",
    "    ,'Promise Pharmacy'\n",
    "]\n",
    "available_data = {\n",
    "    # 'Commercial Intake Fax':['Image', 'DPL', 'PA Inventory', 'Commercial Call Back']\n",
    "    # ,'Promise Intake Fax':['Image', 'DPL', 'PA Inventory', 'Commercial Call Back']\n",
    "    # ,'Commercial Intake Phone':['DPL']\n",
    "    # ,'Promise Intake Phone':['DPL']\n",
    "    # ,'Intake Pharmacy':['Image', 'DPL']\n",
    "    # ,'UM RxMed':['Image', 'DPL']\n",
    "    # ,'Promise Pharmacy':['Image', 'DPL']\n",
    "    'Commercial Intake Fax':[['Image', 'Image Report']]\n",
    "    ,'Promise Intake Fax':[['Image', 'Image Report']]\n",
    "    ,'Commercial Intake Phone':[['DPL', 'Intake Phone']]\n",
    "    ,'Promise Intake Phone':[['DPL', 'Intake Phone']]\n",
    "    ,'Intake Pharmacy':[['Image', 'Image Report']]\n",
    "    ,'UM RxMed':[['Image', 'Image Report']]\n",
    "    ,'Promise Pharmacy':[['Image', 'Image Report']]\n",
    "}"
   ]
  },
  {
   "cell_type": "code",
   "execution_count": 68,
   "metadata": {},
   "outputs": [
    {
     "name": "stdout",
     "output_type": "stream",
     "text": [
      "Commercial Intake Fax\n",
      "(41609, 84)\n",
      "(41609, 84)\n",
      "Promise Intake Fax\n",
      "(45778, 84)\n",
      "(87387, 86)\n",
      "Commercial Intake Phone\n",
      "(22103, 25)\n",
      "(109490, 101)\n",
      "Promise Intake Phone\n",
      "(4547, 25)\n",
      "(114037, 101)\n",
      "Intake Pharmacy\n",
      "(9002, 21)\n",
      "(123039, 105)\n",
      "UM RxMed\n",
      "(5549, 21)\n",
      "(128588, 105)\n",
      "Promise Pharmacy\n",
      "(708, 21)\n",
      "(129296, 105)\n"
     ]
    }
   ],
   "source": [
    "# data consolidation\n",
    "master = pd.DataFrame()\n",
    "for SOW in SOWs:\n",
    "    # initialize master frame\n",
    "    master_sow = pd.DataFrame()\n",
    "\n",
    "    # list available data per SOW\n",
    "    data_sets = available_data[SOW]\n",
    "\n",
    "    # read reference files for image data    \n",
    "    ref_TAT, ref_BD, ref_AHT = ref_files_access.get_ref_files(data_dump)\n",
    "\n",
    "    for data_set in data_sets:\n",
    "        report_type = data_set[0]\n",
    "        sheet_name = data_set[1]\n",
    "\n",
    "        subfolder_name = helper_functions.get_subfolder_name(SOW, report_type)\n",
    "        data_files_loc = data_dump + \"\\\\\" + report_type + \"\\\\\" + subfolder_name + \"\\\\\"\n",
    "        data_files = helper_functions.get_filenames(data_files_loc)\n",
    "\n",
    "        # consolidate data per data set type\n",
    "        if report_type == 'Image':\n",
    "            image = data_consolidation.consolidate_image_data(SOW, data_files_loc, data_files, sheet_name, ref_BD, ref_TAT)\n",
    "        \n",
    "        if report_type == 'DPL':\n",
    "            dpl = data_consolidation.consolidate_dpl_data(SOW, data_files_loc, data_files, sheet_name, skiprows=5, ref_BD=ref_BD, ref_TAT=ref_TAT)\n",
    "\n",
    "        # if report_type == 'PA Inventory':\n",
    "        #     pa_inventory = data_consolidation.consolidate_pa_inventory(data_files_loc, data_files, sheet_name)\n",
    "\n",
    "        # if report_type == 'Commercial Call Back':\n",
    "        #     commercial_call_back = data_consolidation.consolidate_commercial_call_back(data_files_loc, data_files, sheet_name)\n",
    "        \n",
    "    # merge available data\n",
    "    #sow = pd.concat([image, dpl, pa_inventory, commercial_call_back], axis='columns', ignore_index=True)\n",
    "    #sow = helper_functions.rename_headers()\n",
    "    if (SOW == 'Commercial Intake Fax') | (SOW == 'Promise Intake Fax') | (SOW == 'Intake Pharmacy') | (SOW == 'UM RxMed') | (SOW == 'Promise Pharmacy'):\n",
    "        sow = image\n",
    "    elif (SOW==\"Commercial Intake Phone\") | (SOW==\"Promise Intake Phone\"):\n",
    "        sow = dpl\n",
    "    \n",
    "    master = master.append(sow)\n",
    "    print(master.shape)\n",
    "\n",
    "# apply general preprocessing\n",
    "master = general_preprocessing.preprocess_master_df(master, ref_AHT)\n",
    "\n",
    "# save output\n",
    "required_columns = define_required_columns()\n",
    "master[required_columns].to_excel(\"Staffing_Optimization.xlsx\", index=False)"
   ]
  },
  {
   "cell_type": "code",
   "execution_count": null,
   "metadata": {},
   "outputs": [],
   "source": []
  },
  {
   "cell_type": "code",
   "execution_count": null,
   "metadata": {},
   "outputs": [],
   "source": []
  },
  {
   "cell_type": "code",
   "execution_count": null,
   "metadata": {},
   "outputs": [],
   "source": []
  },
  {
   "cell_type": "code",
   "execution_count": 406,
   "metadata": {},
   "outputs": [
    {
     "data": {
      "text/plain": [
       "(102646, 60)"
      ]
     },
     "execution_count": 406,
     "metadata": {},
     "output_type": "execute_result"
    }
   ],
   "source": [
    "master[required_columns].shape"
   ]
  },
  {
   "cell_type": "code",
   "execution_count": 407,
   "metadata": {},
   "outputs": [
    {
     "data": {
      "text/plain": [
       "Promise Intake Fax       45778\n",
       "Commercial Intake Fax    41609\n",
       "Intake Pharmacy           9002\n",
       "UM RxMed                  5549\n",
       "Promise Pharmacy           708\n",
       "Name: Service Line, dtype: int64"
      ]
     },
     "execution_count": 407,
     "metadata": {},
     "output_type": "execute_result"
    }
   ],
   "source": [
    "master['Service Line'].value_counts()"
   ]
  },
  {
   "cell_type": "code",
   "execution_count": null,
   "metadata": {},
   "outputs": [],
   "source": []
  },
  {
   "cell_type": "code",
   "execution_count": null,
   "metadata": {},
   "outputs": [],
   "source": []
  },
  {
   "cell_type": "code",
   "execution_count": null,
   "metadata": {},
   "outputs": [],
   "source": []
  }
 ],
 "metadata": {
  "kernelspec": {
   "display_name": "Python 3.8.5 ('base')",
   "language": "python",
   "name": "python3"
  },
  "language_info": {
   "codemirror_mode": {
    "name": "ipython",
    "version": 3
   },
   "file_extension": ".py",
   "mimetype": "text/x-python",
   "name": "python",
   "nbconvert_exporter": "python",
   "pygments_lexer": "ipython3",
   "version": "3.8.5"
  },
  "orig_nbformat": 4,
  "vscode": {
   "interpreter": {
    "hash": "56b4e61e03f5619f4093ca08d6045fae20885682cfce8fe84109dcadcba5359e"
   }
  }
 },
 "nbformat": 4,
 "nbformat_minor": 2
}
